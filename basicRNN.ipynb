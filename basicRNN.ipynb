{
  "nbformat": 4,
  "nbformat_minor": 0,
  "metadata": {
    "colab": {
      "name": "basicRNN.ipynb",
      "provenance": [],
      "collapsed_sections": [],
      "authorship_tag": "ABX9TyPph4G36X5u04Dsxtjo9YwF",
      "include_colab_link": true
    },
    "kernelspec": {
      "name": "python3",
      "display_name": "Python 3"
    },
    "language_info": {
      "name": "python"
    }
  },
  "cells": [
    {
      "cell_type": "markdown",
      "metadata": {
        "id": "view-in-github",
        "colab_type": "text"
      },
      "source": [
        "<a href=\"https://colab.research.google.com/github/fatihcelikeee/FirstMachineLearningCodes/blob/master/basicRNN.ipynb\" target=\"_parent\"><img src=\"https://colab.research.google.com/assets/colab-badge.svg\" alt=\"Open In Colab\"/></a>"
      ]
    },
    {
      "cell_type": "code",
      "source": [
        "from google.colab import drive\n",
        "drive.mount('/gdrive')\n",
        "%cd /gdrive"
      ],
      "metadata": {
        "colab": {
          "base_uri": "https://localhost:8080/"
        },
        "id": "KetZqUHanqPg",
        "outputId": "398c1765-b810-412f-878a-c6e3e37e6f95"
      },
      "execution_count": null,
      "outputs": [
        {
          "output_type": "stream",
          "name": "stdout",
          "text": [
            "Drive already mounted at /gdrive; to attempt to forcibly remount, call drive.mount(\"/gdrive\", force_remount=True).\n",
            "/gdrive\n"
          ]
        }
      ]
    },
    {
      "cell_type": "code",
      "execution_count": null,
      "metadata": {
        "id": "EQs4AL9SnkC3"
      },
      "outputs": [],
      "source": [
        "import numpy as np"
      ]
    },
    {
      "cell_type": "code",
      "source": [
        "time_steps = 64\n",
        "input_features = 32\n",
        "output_features = 128"
      ],
      "metadata": {
        "id": "yUto_sVZnvLY"
      },
      "execution_count": null,
      "outputs": []
    },
    {
      "cell_type": "markdown",
      "source": [
        "choosing input randomly"
      ],
      "metadata": {
        "id": "7wimJRjWoea3"
      }
    },
    {
      "cell_type": "code",
      "source": [
        "inputs = np.random.random((time_steps,input_features))\n",
        "inputs"
      ],
      "metadata": {
        "colab": {
          "base_uri": "https://localhost:8080/"
        },
        "id": "hg4Yl0GLob0k",
        "outputId": "7968a9da-25b3-483c-f146-56db4c7c2547"
      },
      "execution_count": null,
      "outputs": [
        {
          "output_type": "execute_result",
          "data": {
            "text/plain": [
              "array([[0.5504756 , 0.44379508, 0.06295852, ..., 0.29641224, 0.02165501,\n",
              "        0.4845397 ],\n",
              "       [0.29252349, 0.19873731, 0.79186747, ..., 0.29538712, 0.36142435,\n",
              "        0.10685605],\n",
              "       [0.47157362, 0.12041258, 0.42103497, ..., 0.65395733, 0.16386169,\n",
              "        0.56937021],\n",
              "       ...,\n",
              "       [0.72048677, 0.19215262, 0.6272454 , ..., 0.55921566, 0.91812806,\n",
              "        0.8368765 ],\n",
              "       [0.33470665, 0.06521353, 0.94578359, ..., 0.15914009, 0.82877248,\n",
              "        0.04480144],\n",
              "       [0.68592738, 0.30606918, 0.37963242, ..., 0.03542756, 0.39454201,\n",
              "        0.46369116]])"
            ]
          },
          "metadata": {},
          "execution_count": 4
        }
      ]
    },
    {
      "cell_type": "markdown",
      "source": [
        "choosing a0= zeros vector"
      ],
      "metadata": {
        "id": "gcISWf3Wo5B_"
      }
    },
    {
      "cell_type": "code",
      "source": [
        "a_t = np.zeros(output_features,)"
      ],
      "metadata": {
        "id": "Dqh8IH2FouGp"
      },
      "execution_count": null,
      "outputs": []
    },
    {
      "cell_type": "markdown",
      "source": [
        "random weights"
      ],
      "metadata": {
        "id": "q75TJCtwpFHw"
      }
    },
    {
      "cell_type": "code",
      "source": [
        "Wu = np.random.random((output_features,input_features))\n",
        "ru = np.random.random((output_features,output_features))\n",
        "bu = np.random.random((output_features,))"
      ],
      "metadata": {
        "id": "6Y9uU5GSpC0r"
      },
      "execution_count": null,
      "outputs": []
    },
    {
      "cell_type": "code",
      "source": [
        "outputs = []\n",
        "for input_t in inputs:\n",
        "  output_t = np.tanh(np.dot(Wu,input_t) + np.dot(ru,a_t) + bu)\n",
        "  outputs.append(output_t)\n",
        "  a_t = output_features\n",
        "outputs = np.concatenate(outputs,axis=0)"
      ],
      "metadata": {
        "id": "owreibSHpqh8"
      },
      "execution_count": null,
      "outputs": []
    },
    {
      "cell_type": "code",
      "source": [
        "output_t = np.tanh(np.dot(Wu,input_t) + np.dot(ru,a_t) + bu)"
      ],
      "metadata": {
        "id": "0bHJRrbIquM4"
      },
      "execution_count": null,
      "outputs": []
    },
    {
      "cell_type": "code",
      "source": [
        "output_t.shape"
      ],
      "metadata": {
        "colab": {
          "base_uri": "https://localhost:8080/"
        },
        "id": "5nKOfMFgr86d",
        "outputId": "21d492c0-27e7-4845-a3b4-de93aeb0bf57"
      },
      "execution_count": null,
      "outputs": [
        {
          "output_type": "execute_result",
          "data": {
            "text/plain": [
              "(128, 128)"
            ]
          },
          "metadata": {},
          "execution_count": 11
        }
      ]
    },
    {
      "cell_type": "code",
      "source": [
        ""
      ],
      "metadata": {
        "id": "jifOpcdEsEr_"
      },
      "execution_count": null,
      "outputs": []
    }
  ]
}